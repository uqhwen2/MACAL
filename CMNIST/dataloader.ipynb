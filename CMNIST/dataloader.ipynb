{
 "cells": [
  {
   "cell_type": "code",
   "outputs": [],
   "source": [
    "import torch\n",
    "from torch.utils.data import Dataset\n",
    "\n",
    "class CustomDataset(Dataset):\n",
    "    def __init__(self, num_samples):\n",
    "        # Generate random data for input features (x) and target variable (y)\n",
    "        self.x = torch.randn(num_samples,  features_dim)\n",
    "        self.y = torch.randint(0, 2, (num_samples,), dtype=torch.float32)\n",
    "\n",
    "    def __len__(self):\n",
    "        return len(self.x)\n",
    "\n",
    "    def __getitem__(self, idx):\n",
    "        # Return a single sample as a dictionary containing input features and target variable\n",
    "        return {'x': self.x[idx], 'y': self.y[idx]}\n",
    "\n",
    "# Assuming features_dim is the dimensionality of your input features\n",
    "features_dim = 10\n",
    "\n",
    "# Creating instances of the custom dataset for training and tuning\n",
    "num_train_samples = 1000\n",
    "num_tune_samples = 200\n",
    "\n",
    "train_dataset = CustomDataset(num_samples=num_train_samples)\n",
    "tune_dataset = CustomDataset(num_samples=num_tune_samples)\n"
   ],
   "metadata": {
    "collapsed": false,
    "ExecuteTime": {
     "end_time": "2024-01-29T00:32:19.860744708Z",
     "start_time": "2024-01-29T00:32:19.054859960Z"
    }
   },
   "id": "f9af79099af6f4a1",
   "execution_count": 1
  },
  {
   "cell_type": "code",
   "outputs": [
    {
     "data": {
      "text/plain": "{'x': tensor([-1.2734,  1.1959,  1.2621, -0.1416,  0.6549,  0.1397, -0.6385,  0.6103,\n         -0.4626,  0.0602]),\n 'y': tensor(1.)}"
     },
     "execution_count": 8,
     "metadata": {},
     "output_type": "execute_result"
    }
   ],
   "source": [
    "train_dataset[0]"
   ],
   "metadata": {
    "collapsed": false,
    "ExecuteTime": {
     "end_time": "2024-01-29T00:33:21.375860388Z",
     "start_time": "2024-01-29T00:33:21.333467671Z"
    }
   },
   "id": "c7e3512064827b59",
   "execution_count": 8
  },
  {
   "cell_type": "code",
   "outputs": [],
   "source": [
    "from torch.utils.data import DataLoader\n",
    "\n",
    "batch_size = 32\n",
    "num_workers = 4\n",
    "\n",
    "train_loader = DataLoader(\n",
    "    train_dataset,\n",
    "    batch_size=batch_size,\n",
    "    shuffle=True,\n",
    "    num_workers=num_workers,\n",
    "    drop_last=True,\n",
    ")\n",
    "\n",
    "tune_loader = DataLoader(\n",
    "    tune_dataset,\n",
    "    batch_size=batch_size,\n",
    "    num_workers=num_workers,\n",
    ")\n"
   ],
   "metadata": {
    "collapsed": false,
    "ExecuteTime": {
     "end_time": "2024-01-29T00:35:19.664896472Z",
     "start_time": "2024-01-29T00:35:19.615565521Z"
    }
   },
   "id": "61791826949a813f",
   "execution_count": 25
  },
  {
   "cell_type": "code",
   "outputs": [],
   "source": [
    "import json\n",
    "\n",
    "# Read the configuration from the file\n",
    "with open('experiments/config.json', 'r') as file:\n",
    "    config = json.load(file)\n"
   ],
   "metadata": {
    "collapsed": false,
    "ExecuteTime": {
     "end_time": "2024-01-29T01:28:34.262995769Z",
     "start_time": "2024-01-29T01:28:34.221686375Z"
    }
   },
   "id": "91897a2e5d92f93d",
   "execution_count": 29
  },
  {
   "cell_type": "code",
   "outputs": [],
   "source": [
    "# Access configuration values\n",
    "kernel = config.get(\"kernel\")\n",
    "num_inducing_points = config.get(\"num_inducing_points\")\n",
    "dim_hidden = config.get(\"dim_hidden\")\n",
    "dim_output = config.get(\"dim_output\")\n",
    "depth = config.get(\"depth\")\n",
    "negative_slope = config.get(\"negative_slope\")\n",
    "dropout_rate = config.get(\"dropout_rate\")\n",
    "spectral_norm = config.get(\"spectral_norm\")\n",
    "learning_rate = config.get(\"learning_rate\")\n",
    "batch_size = config.get(\"batch_size\")\n",
    "epochs = config.get(\"epochs\")"
   ],
   "metadata": {
    "collapsed": false,
    "ExecuteTime": {
     "end_time": "2024-01-29T01:28:36.373959845Z",
     "start_time": "2024-01-29T01:28:36.364193691Z"
    }
   },
   "id": "98b28335a6a1caa0",
   "execution_count": 30
  },
  {
   "cell_type": "code",
   "outputs": [
    {
     "name": "stdout",
     "output_type": "stream",
     "text": [
      "Matern32 500\n"
     ]
    }
   ],
   "source": [
    "print(kernel, epochs)"
   ],
   "metadata": {
    "collapsed": false,
    "ExecuteTime": {
     "end_time": "2024-01-29T01:29:03.275347971Z",
     "start_time": "2024-01-29T01:29:03.264489382Z"
    }
   },
   "id": "9a098cd23898ec07",
   "execution_count": 33
  },
  {
   "cell_type": "code",
   "outputs": [
    {
     "name": "stdout",
     "output_type": "stream",
     "text": [
      "The file does not exist.\n"
     ]
    }
   ],
   "source": [
    "from pathlib import Path\n",
    "\n",
    "# Assuming job_dir is a string\n",
    "job_dir = \"experiments/\"\n",
    "\n",
    "# Convert the string to a Path object\n",
    "job_dir_path = Path(job_dir)\n",
    "\n",
    "# Check if the file exists\n",
    "if not (job_dir_path / \"best_checkpoint.pt\").exists():\n",
    "    # Your code here\n",
    "    print(\"The file does not exist.\")"
   ],
   "metadata": {
    "collapsed": false,
    "ExecuteTime": {
     "end_time": "2024-01-29T01:41:36.375220665Z",
     "start_time": "2024-01-29T01:41:36.331803334Z"
    }
   },
   "id": "3c07bb09e195e82e",
   "execution_count": 34
  },
  {
   "cell_type": "code",
   "outputs": [
    {
     "name": "stdout",
     "output_type": "stream",
     "text": [
      "Original tensor data type: torch.int64\n",
      "Casted tensor data type: torch.float32\n"
     ]
    }
   ],
   "source": [
    "import torch\n",
    "\n",
    "# Create a tensor of integer type\n",
    "int_tensor = torch.tensor([1, 2, 3])\n",
    "\n",
    "# Cast the tensor to float using .float()\n",
    "float_tensor = int_tensor.float()\n",
    "\n",
    "# Print the data type of the tensors\n",
    "print(\"Original tensor data type:\", int_tensor.dtype)\n",
    "print(\"Casted tensor data type:\", float_tensor.dtype)\n"
   ],
   "metadata": {
    "collapsed": false,
    "ExecuteTime": {
     "end_time": "2024-01-29T02:40:11.647861662Z",
     "start_time": "2024-01-29T02:40:11.598474434Z"
    }
   },
   "id": "9df82d90d8a6885f",
   "execution_count": 36
  },
  {
   "cell_type": "code",
   "outputs": [],
   "source": [],
   "metadata": {
    "collapsed": false
   },
   "id": "a1789f3703a372e0"
  },
  {
   "cell_type": "code",
   "outputs": [
    {
     "name": "stdout",
     "output_type": "stream",
     "text": [
      "Original Array: [5 2 8 1 7 3 9 4 6]\n",
      "Sorted Indices: [6 2 4 8 0 7 5 1 3]\n"
     ]
    }
   ],
   "source": [
    "import numpy as np\n",
    "\n",
    "# Assuming 'scores' is a 1D NumPy array\n",
    "scores = np.array([5, 2, 8, 1, 7, 3, 9, 4, 6])\n",
    "\n",
    "# Get indices that would sort the array in descending order\n",
    "sorted_indices = np.argsort(scores)[::-1]\n",
    "\n",
    "# Now, 'sorted_indices' contains the indices for sorting in descending order\n",
    "print(\"Original Array:\", scores)\n",
    "print(\"Sorted Indices:\", sorted_indices)"
   ],
   "metadata": {
    "collapsed": false,
    "ExecuteTime": {
     "end_time": "2024-01-29T05:54:29.713155870Z",
     "start_time": "2024-01-29T05:54:29.701481757Z"
    }
   },
   "id": "34d4b4d4479d042e",
   "execution_count": 44
  },
  {
   "cell_type": "code",
   "outputs": [
    {
     "name": "stdout",
     "output_type": "stream",
     "text": [
      "[9 8 7 6 5 4 3 2 1]\n"
     ]
    }
   ],
   "source": [
    "print(scores[sorted_indices])"
   ],
   "metadata": {
    "collapsed": false,
    "ExecuteTime": {
     "end_time": "2024-01-29T05:54:30.390830086Z",
     "start_time": "2024-01-29T05:54:30.387118651Z"
    }
   },
   "id": "fe348dca5e0dfc7a",
   "execution_count": 45
  },
  {
   "cell_type": "code",
   "outputs": [],
   "source": [],
   "metadata": {
    "collapsed": false
   },
   "id": "d6465079bed1071a"
  }
 ],
 "metadata": {
  "kernelspec": {
   "display_name": "Python 3",
   "language": "python",
   "name": "python3"
  },
  "language_info": {
   "codemirror_mode": {
    "name": "ipython",
    "version": 2
   },
   "file_extension": ".py",
   "mimetype": "text/x-python",
   "name": "python",
   "nbconvert_exporter": "python",
   "pygments_lexer": "ipython2",
   "version": "2.7.6"
  }
 },
 "nbformat": 4,
 "nbformat_minor": 5
}
