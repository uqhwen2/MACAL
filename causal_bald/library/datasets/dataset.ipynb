{
 "cells": [
  {
   "cell_type": "code",
   "execution_count": 1,
   "id": "initial_id",
   "metadata": {
    "collapsed": true,
    "ExecuteTime": {
     "end_time": "2023-12-10T04:39:51.530638230Z",
     "start_time": "2023-12-10T04:39:49.978050289Z"
    }
   },
   "outputs": [],
   "source": [
    "from synthetic import Synthetic\n",
    "import torch\n",
    "import numpy as np\n",
    "np.random.seed(42)"
   ]
  },
  {
   "cell_type": "code",
   "execution_count": 2,
   "outputs": [],
   "source": [
    "dataset = Synthetic(num_examples=100, mode='mu')"
   ],
   "metadata": {
    "collapsed": false,
    "ExecuteTime": {
     "end_time": "2023-12-10T04:39:51.545536244Z",
     "start_time": "2023-12-10T04:39:51.532921286Z"
    }
   },
   "id": "9956dc720b1b0e5d"
  },
  {
   "cell_type": "code",
   "execution_count": 3,
   "outputs": [
    {
     "data": {
      "text/plain": "torch.Size([2400, 2])"
     },
     "execution_count": 3,
     "metadata": {},
     "output_type": "execute_result"
    }
   ],
   "source": [
    "dataset.inputs.shape"
   ],
   "metadata": {
    "collapsed": false,
    "ExecuteTime": {
     "end_time": "2023-12-10T04:39:51.547314490Z",
     "start_time": "2023-12-10T04:39:51.543341308Z"
    }
   },
   "id": "8aeb3a7a31094518"
  },
  {
   "cell_type": "code",
   "execution_count": 4,
   "outputs": [
    {
     "data": {
      "text/plain": "torch.Size([2400, 2])"
     },
     "execution_count": 4,
     "metadata": {},
     "output_type": "execute_result"
    }
   ],
   "source": [
    "dataset.inputs.shape"
   ],
   "metadata": {
    "collapsed": false,
    "ExecuteTime": {
     "end_time": "2023-12-10T04:39:51.607363011Z",
     "start_time": "2023-12-10T04:39:51.548194016Z"
    }
   },
   "id": "3274949e42e7f75d"
  },
  {
   "cell_type": "code",
   "execution_count": 5,
   "outputs": [
    {
     "data": {
      "text/plain": "torch.Size([2400])"
     },
     "execution_count": 5,
     "metadata": {},
     "output_type": "execute_result"
    }
   ],
   "source": [
    "dataset.targets.shape"
   ],
   "metadata": {
    "collapsed": false,
    "ExecuteTime": {
     "end_time": "2023-12-10T04:39:51.608408428Z",
     "start_time": "2023-12-10T04:39:51.558900219Z"
    }
   },
   "id": "1252dab37b0b830a"
  },
  {
   "cell_type": "code",
   "execution_count": 6,
   "outputs": [
    {
     "data": {
      "text/plain": "(2400,)"
     },
     "execution_count": 6,
     "metadata": {},
     "output_type": "execute_result"
    }
   ],
   "source": [
    "dataset.mu0.shape"
   ],
   "metadata": {
    "collapsed": false,
    "ExecuteTime": {
     "end_time": "2023-12-10T04:39:51.674368528Z",
     "start_time": "2023-12-10T04:39:51.622468712Z"
    }
   },
   "id": "5c887f244fbcad39"
  },
  {
   "cell_type": "code",
   "execution_count": 7,
   "outputs": [
    {
     "data": {
      "text/plain": "2400"
     },
     "execution_count": 7,
     "metadata": {},
     "output_type": "execute_result"
    }
   ],
   "source": [
    "len(dataset.x)"
   ],
   "metadata": {
    "collapsed": false,
    "ExecuteTime": {
     "end_time": "2023-12-10T04:39:51.674767844Z",
     "start_time": "2023-12-10T04:39:51.622680084Z"
    }
   },
   "id": "aa03cd7b7f690b9e"
  },
  {
   "cell_type": "code",
   "execution_count": 8,
   "outputs": [],
   "source": [
    "indices = np.arange(len(dataset.x))\n",
    "# Shuffle the indices in-place\n",
    "np.random.shuffle(indices)"
   ],
   "metadata": {
    "collapsed": false,
    "ExecuteTime": {
     "end_time": "2023-12-10T04:39:51.674902799Z",
     "start_time": "2023-12-10T04:39:51.622769236Z"
    }
   },
   "id": "6a9f5e51fdca88d1"
  },
  {
   "cell_type": "code",
   "execution_count": 9,
   "outputs": [
    {
     "name": "stdout",
     "output_type": "stream",
     "text": [
      "[ 394 1566  865 ...  924  944 1654]\n"
     ]
    }
   ],
   "source": [
    "print(indices)"
   ],
   "metadata": {
    "collapsed": false,
    "ExecuteTime": {
     "end_time": "2023-12-10T04:39:51.675212806Z",
     "start_time": "2023-12-10T04:39:51.622833866Z"
    }
   },
   "id": "c89d16ecde6eb215"
  },
  {
   "cell_type": "code",
   "execution_count": 10,
   "outputs": [
    {
     "data": {
      "text/plain": "array([1., 1., 0., ..., 0., 1., 0.], dtype=float32)"
     },
     "execution_count": 10,
     "metadata": {},
     "output_type": "execute_result"
    }
   ],
   "source": [
    "dataset.t"
   ],
   "metadata": {
    "collapsed": false,
    "ExecuteTime": {
     "end_time": "2023-12-10T04:39:51.677163425Z",
     "start_time": "2023-12-10T04:39:51.666473591Z"
    }
   },
   "id": "195c2936f57d6cca"
  },
  {
   "cell_type": "code",
   "execution_count": 11,
   "outputs": [
    {
     "data": {
      "text/plain": "(2400,)"
     },
     "execution_count": 11,
     "metadata": {},
     "output_type": "execute_result"
    }
   ],
   "source": [
    "dataset.mu0.shape"
   ],
   "metadata": {
    "collapsed": false,
    "ExecuteTime": {
     "end_time": "2023-12-10T04:39:51.677483084Z",
     "start_time": "2023-12-10T04:39:51.666662644Z"
    }
   },
   "id": "7f99edd28a5f5879"
  },
  {
   "cell_type": "code",
   "execution_count": 12,
   "outputs": [
    {
     "data": {
      "text/plain": "(2400,)"
     },
     "execution_count": 12,
     "metadata": {},
     "output_type": "execute_result"
    }
   ],
   "source": [
    "dataset.t.shape"
   ],
   "metadata": {
    "collapsed": false,
    "ExecuteTime": {
     "end_time": "2023-12-10T04:39:51.678223170Z",
     "start_time": "2023-12-10T04:39:51.666760059Z"
    }
   },
   "id": "3247459b9f0cda74"
  },
  {
   "cell_type": "code",
   "execution_count": 14,
   "outputs": [],
   "source": [
    "from ihdp import IHDP\n",
    "from pathlib import Path"
   ],
   "metadata": {
    "collapsed": false,
    "ExecuteTime": {
     "end_time": "2023-12-10T04:40:59.718297660Z",
     "start_time": "2023-12-10T04:40:59.673607445Z"
    }
   },
   "id": "6bfdf7066cb464e4"
  },
  {
   "cell_type": "code",
   "execution_count": 27,
   "outputs": [],
   "source": [
    "ihdp_test = IHDP(root='assets', split='test', mode='mu', seed=42)"
   ],
   "metadata": {
    "collapsed": false,
    "ExecuteTime": {
     "end_time": "2023-12-10T04:45:47.308605245Z",
     "start_time": "2023-12-10T04:45:47.258487959Z"
    }
   },
   "id": "fea10532f136162a"
  },
  {
   "cell_type": "code",
   "execution_count": 28,
   "outputs": [
    {
     "data": {
      "text/plain": "array([[ 0.20864718, -0.20308192,  0.38408515, ...,  0.        ,\n         0.        ,  0.        ],\n       [ 1.0955026 ,  1.7970777 , -1.1063647 , ...,  0.        ,\n         0.        ,  0.        ],\n       [ 0.42495337,  0.5969819 , -0.73375225, ...,  0.        ,\n         0.        ,  0.        ],\n       ...,\n       [ 0.46821463,  0.9970138 ,  0.7566976 , ...,  0.        ,\n         0.        ,  0.        ],\n       [-1.8246312 , -2.2032416 ,  0.7566976 , ...,  0.        ,\n         0.        ,  0.        ],\n       [ 0.51147586, -0.20308192, -0.73375225, ...,  0.        ,\n         0.        ,  1.        ]], dtype=float32)"
     },
     "execution_count": 28,
     "metadata": {},
     "output_type": "execute_result"
    }
   ],
   "source": [
    "ihdp_test.x"
   ],
   "metadata": {
    "collapsed": false,
    "ExecuteTime": {
     "end_time": "2023-12-10T04:45:47.414545637Z",
     "start_time": "2023-12-10T04:45:47.371744862Z"
    }
   },
   "id": "546b883d626d2c7d"
  },
  {
   "cell_type": "code",
   "execution_count": 29,
   "outputs": [],
   "source": [
    "ihdp_train = IHDP(root='assets', split='train', mode='mu', seed=42)"
   ],
   "metadata": {
    "collapsed": false,
    "ExecuteTime": {
     "end_time": "2023-12-10T04:46:20.979546234Z",
     "start_time": "2023-12-10T04:46:20.934729377Z"
    }
   },
   "id": "d4dfee186f449e5f"
  },
  {
   "cell_type": "code",
   "execution_count": 30,
   "outputs": [
    {
     "data": {
      "text/plain": "array([[-0.33211833,  0.5969819 , -0.3611398 , ...,  0.        ,\n         0.        ,  0.        ],\n       [-1.9327843 , -2.2032416 ,  2.2471476 , ...,  0.        ,\n         1.        ,  0.        ],\n       [-0.5700552 , -0.20308192, -0.3611398 , ...,  0.        ,\n         0.        ,  0.        ],\n       ...,\n       [ 1.3550701 ,  1.3970457 , -0.3611398 , ...,  0.        ,\n         0.        ,  0.        ],\n       [ 1.1820251 ,  1.3970457 , -0.73375225, ...,  1.        ,\n         0.        ,  0.        ],\n       [ 0.8791964 ,  1.3970457 , -0.3611398 , ...,  0.        ,\n         0.        ,  0.        ]], dtype=float32)"
     },
     "execution_count": 30,
     "metadata": {},
     "output_type": "execute_result"
    }
   ],
   "source": [
    "ihdp_train.x"
   ],
   "metadata": {
    "collapsed": false,
    "ExecuteTime": {
     "end_time": "2023-12-10T04:46:31.041919340Z",
     "start_time": "2023-12-10T04:46:31.031020184Z"
    }
   },
   "id": "4796da4017069599"
  },
  {
   "cell_type": "code",
   "execution_count": 31,
   "outputs": [
    {
     "data": {
      "text/plain": "array([[ 0.63260734,  0.9970138 , -0.3611398 , ...,  0.        ,\n         1.        ,  0.        ],\n       [ 0.27353904,  0.19694999, -0.3611398 , ...,  0.        ,\n         0.        ,  0.        ],\n       [-2.2572436 , -1.4031776 ,  1.5019226 , ...,  0.        ,\n         1.        ,  0.        ],\n       ...,\n       [-1.8462617 , -1.8032095 ,  2.61976   , ...,  0.        ,\n         0.        ,  0.        ],\n       [-0.98103696, -0.20308192,  0.7566976 , ...,  0.        ,\n         0.        ,  0.        ],\n       [-0.20233463,  1.3970457 , -0.73375225, ...,  0.        ,\n         0.        ,  0.        ]], dtype=float32)"
     },
     "execution_count": 31,
     "metadata": {},
     "output_type": "execute_result"
    }
   ],
   "source": [
    "ihdp_valid = IHDP(root='assets', split='valid', mode='mu', seed=42)\n",
    "ihdp_valid.x"
   ],
   "metadata": {
    "collapsed": false,
    "ExecuteTime": {
     "end_time": "2023-12-10T04:46:54.419834061Z",
     "start_time": "2023-12-10T04:46:54.374861336Z"
    }
   },
   "id": "53c7b8120aa063e7"
  },
  {
   "cell_type": "code",
   "execution_count": null,
   "outputs": [],
   "source": [],
   "metadata": {
    "collapsed": false
   },
   "id": "527568553684f32f"
  }
 ],
 "metadata": {
  "kernelspec": {
   "display_name": "Python 3",
   "language": "python",
   "name": "python3"
  },
  "language_info": {
   "codemirror_mode": {
    "name": "ipython",
    "version": 2
   },
   "file_extension": ".py",
   "mimetype": "text/x-python",
   "name": "python",
   "nbconvert_exporter": "python",
   "pygments_lexer": "ipython2",
   "version": "2.7.6"
  }
 },
 "nbformat": 4,
 "nbformat_minor": 5
}
